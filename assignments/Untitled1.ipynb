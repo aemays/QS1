{
 "cells": [
  {
   "cell_type": "code",
   "execution_count": 8,
   "id": "14b4510b-6f5e-4e11-acd7-e4e322ba7733",
   "metadata": {},
   "outputs": [
    {
     "name": "stdout",
     "output_type": "stream",
     "text": [
      "1.999999999999999942465086923201239354065938727350727999887108866855201549689487194871873043666710145771503448486328125E-28\n",
      "3.000000000000000060552876612886905281105933147975557695463777463373844511806964874267578125E-17\n",
      "3.0000000000200000605528766123115561503379455415162E-17\n"
     ]
    }
   ],
   "source": [
    "from decimal import Decimal, getcontext\n",
    "getcontext().prec = 50  # increase precision\n",
    "\n",
    "small_num = Decimal(0.0000000000000000000000000002)\n",
    "print(small_num)\n",
    "otherNum = Decimal(0.00000000000000003)\n",
    "print(otherNum)\n",
    "print(small_num+otherNum)\n"
   ]
  },
  {
   "cell_type": "code",
   "execution_count": null,
   "id": "8d556cad-1818-4a92-91d5-59762b8b9708",
   "metadata": {},
   "outputs": [],
   "source": []
  }
 ],
 "metadata": {
  "kernelspec": {
   "display_name": "Python 3 (ipykernel)",
   "language": "python",
   "name": "python3"
  },
  "language_info": {
   "codemirror_mode": {
    "name": "ipython",
    "version": 3
   },
   "file_extension": ".py",
   "mimetype": "text/x-python",
   "name": "python",
   "nbconvert_exporter": "python",
   "pygments_lexer": "ipython3",
   "version": "3.11.7"
  }
 },
 "nbformat": 4,
 "nbformat_minor": 5
}
