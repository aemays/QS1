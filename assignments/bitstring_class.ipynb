{
 "cells": [
  {
   "cell_type": "markdown",
   "id": "4c56e266-772e-46a7-b6c0-cab8144ee539",
   "metadata": {},
   "source": [
    "# BitString Class \n",
    "\n",
    "Write a Class that implements a bit representation that provides the functionality requested in the following questions."
   ]
  },
  {
   "cell_type": "code",
   "execution_count": null,
   "id": "bddbcdba-1386-4471-ae58-7f6ef940557d",
   "metadata": {
    "tags": []
   },
   "outputs": [],
   "source": [
    "# Ensure numpy is imported correctly\n",
    "import numpy as np\n",
    "import math\n",
    "import copy as cp\n",
    "class BitString:\n",
    "    \"\"\"\n",
    "    Simple class to implement a config of bits\n",
    "    \"\"\"\n",
    "    def __init__(self, N):\n",
    "        self.N = N\n",
    "        self.config = np.zeros(N, dtype=int)\n",
    "\n",
    "    def __repr__(self):\n",
    "        \n",
    "        out = \"\"\n",
    "        for i in self.config:\n",
    "            out += str(i)\n",
    "        return out\n",
    "        \n",
    "\n",
    "    def __eq__(self, other):        \n",
    "        return all(self.config == other.config)\n",
    "    \n",
    "    def __len__(self):\n",
    "    \n",
    "        return len(self.config)\n",
    "\n",
    "    def on(self):\n",
    "        numba = 0\n",
    "        i = 0\n",
    "        integerSelf = 0\n",
    "        for i in self.config:\n",
    "            integerSelf = int(self.config[i])\n",
    "            if integerSelf == 1:\n",
    "                numba += 1\n",
    "        return numba\n",
    "\n",
    "    def off(self):\n",
    "        i = 0\n",
    "        numbarino = 0\n",
    "        for i in self.config:\n",
    "            integerSelf = int(self.config[i])\n",
    "            if integerSelf == 0:\n",
    "                numbarino += 1\n",
    "        return numbarino\n",
    "        \n",
    "    def flip_site(self,i):\n",
    "        self.i = i\n",
    "        if self.config[i] == 0:\n",
    "            self.config[i] += 1\n",
    "        else:\n",
    "            self.config[i] -= 1\n",
    "        \n",
    "    def integer(self):\n",
    "        \n",
    "        index = len(self.config) - 1\n",
    "        n = 0\n",
    "        i = 0\n",
    "        dummy = 0\n",
    "        for i in range(len(self.config)):\n",
    "            if self.config[i] == 0:\n",
    "                if dummy == 0:\n",
    "                    n += 1\n",
    "            else:\n",
    "                dummy += 1\n",
    "                \n",
    "        self.config = self.config[n:]\n",
    "        decNum = 0\n",
    "        m = 0\n",
    "        index = len(self.config) - 1\n",
    "        for m in range(len(self.config)):\n",
    "            if self.config[m] == 1:\n",
    "                decNum = decNum + math.pow(2, index)\n",
    "            index -= 1\n",
    "        return int(decNum)\n",
    "    #int(decNum)\n",
    "            \n",
    "    def set_config(self, s:list[int]):\n",
    "        self.config = s\n",
    "        return self.config\n",
    "\n",
    "    def set_integer_config(self, dec:int):\n",
    "        \n",
    "        dec = int(dec)\n",
    "        \n",
    "        dummyList = []\n",
    "        \n",
    "        while dec >= 1:\n",
    "            if dec % 2 == 1:\n",
    "                dummyList.insert(0,1)\n",
    "            else:\n",
    "                dummyList.insert(0,0)\n",
    "            dec = int(dec / 2)\n",
    "        while len(dummyList) < self.N:\n",
    "            dummyList.insert(0,0)\n",
    "        self.config = np.array(dummyList)\n",
    "        return self.config"
   ]
  },
  {
   "cell_type": "markdown",
   "id": "412a2c97-a21f-49ea-a72a-b8c6d2ca490a",
   "metadata": {},
   "source": [
    "---\n",
    "\n",
    "**1. Create an zero `BitString` of length 8 and flip a few bits and print the output.**\n",
    "\n",
    "Methods needed:\n",
    "- `__str__()`\n",
    "- `flip()`\n",
    "- `__len__()`"
   ]
  },
  {
   "cell_type": "code",
   "execution_count": 9,
   "id": "fa614f11-1ec9-4f5f-8452-a62e5c7635db",
   "metadata": {
    "tags": []
   },
   "outputs": [
    {
     "name": "stdout",
     "output_type": "stream",
     "text": [
      " The following should be 0:\n",
      "00000000\n",
      " The following should have 0,2,7 bits flipped:\n",
      "10100001\n",
      " Length of bitstring:  8\n"
     ]
    }
   ],
   "source": [
    "my_bs = BitString(8)\n",
    "\n",
    "my_bs.flip_site(2)\n",
    "my_bs.flip_site(2)\n",
    "print(\" The following should be 0:\")\n",
    "print(my_bs)\n",
    "\n",
    "my_bs.flip_site(2)\n",
    "my_bs.flip_site(7)\n",
    "my_bs.flip_site(0)\n",
    "\n",
    "print(\" The following should have 0,2,7 bits flipped:\")\n",
    "print(my_bs)\n",
    "\n",
    "print(\" Length of bitstring: \", len(my_bs))\n",
    "assert(len(my_bs) == 8)\n"
   ]
  },
  {
   "cell_type": "markdown",
   "id": "794abfaf-a8bb-4d36-80a6-88f88dffb49b",
   "metadata": {},
   "source": [
    "---\n",
    "\n",
    "**2. Add a method that lets you directly set the value of the bitstring by providing a string of 0s and 1s:**\n",
    "\n",
    "Methods needed:\n",
    "- `set_config()`"
   ]
  },
  {
   "cell_type": "code",
   "execution_count": 10,
   "id": "4d896d0a-be94-4e02-b0ff-74a7dfca68a2",
   "metadata": {
    "tags": []
   },
   "outputs": [
    {
     "name": "stdout",
     "output_type": "stream",
     "text": [
      "[0, 1, 1, 0, 0, 1, 0, 0, 1, 0, 1, 0, 0]\n",
      "0110010010100\n"
     ]
    }
   ],
   "source": [
    "my_bs = BitString(13)\n",
    "print(my_bs.set_config([0,1,1,0,0,1,0,0,1,0,1,0,0]))\n",
    "print(my_bs)"
   ]
  },
  {
   "cell_type": "markdown",
   "id": "b96086df-639b-447d-a438-8fe1a7f42fe1",
   "metadata": {},
   "source": [
    "---\n",
    "\n",
    "**3. Add a method that returns number of `on` bits and one that returns the number of `off` bits.**\n",
    "\n",
    "Methods needed:\n",
    "- `on()`\n",
    "- `off()`"
   ]
  },
  {
   "cell_type": "code",
   "execution_count": 11,
   "id": "dfbf5a9b-54dc-428d-8f1f-e0f9e23a5ed2",
   "metadata": {},
   "outputs": [
    {
     "name": "stdout",
     "output_type": "stream",
     "text": [
      " on:   5\n",
      " off:  8\n"
     ]
    }
   ],
   "source": [
    "print(\" on:  \", my_bs.on())\n",
    "print(\" off: \", my_bs.off())\n",
    "\n",
    "assert(my_bs.on() == 5)\n",
    "assert(my_bs.off() == 8)"
   ]
  },
  {
   "cell_type": "markdown",
   "id": "bca221fd-22ce-48eb-b072-8fc59cb706ac",
   "metadata": {
    "tags": []
   },
   "source": [
    "---\n",
    "\n",
    "**4. Add a method that returns the associated integer (decimal).**\n",
    "\n",
    "Methods needed:\n",
    "- `integer()`"
   ]
  },
  {
   "cell_type": "code",
   "execution_count": 12,
   "id": "b7bb3328-5bd3-462c-ad39-dde7516d151c",
   "metadata": {
    "tags": []
   },
   "outputs": [
    {
     "name": "stdout",
     "output_type": "stream",
     "text": [
      "3220\n"
     ]
    }
   ],
   "source": [
    "print(my_bs.integer())\n",
    "assert(my_bs.integer() == 3220)"
   ]
  },
  {
   "cell_type": "markdown",
   "id": "92a60e8e-e4ee-480b-a26b-96dac0e82223",
   "metadata": {
    "tags": []
   },
   "source": [
    "---\n",
    "**5. Add a method that lets you directly set the value of the bitstring by providing a decimal integer.** \n",
    "\n",
    "Also include  an optional keyword `digits` to let the user specify the length of the string.\n",
    "\n",
    "Methods needed:\n",
    "- `set_integer_config()`"
   ]
  },
  {
   "cell_type": "code",
   "execution_count": 13,
   "id": "609be1a4-2335-464e-91c7-0ace2779ccbb",
   "metadata": {
    "tags": []
   },
   "outputs": [
    {
     "name": "stdout",
     "output_type": "stream",
     "text": [
      "[0 0 0 0 0 0 0 0 0 0 0 0 0 0 0 0 0 0 0 0] binary form of 0\n",
      "0\n",
      "[0 0 0 0 0 0 0 0 0 0 0 0 0 0 0 0 0 0 0 1] binary form of 1\n",
      "1\n",
      "[0 0 0 0 0 0 0 0 0 0 0 0 0 0 0 0 0 0 1 0] binary form of 2\n",
      "2\n",
      "[0 0 0 0 0 0 0 0 0 0 0 0 0 0 0 0 0 0 1 1] binary form of 3\n",
      "3\n",
      "[0 0 0 0 0 0 0 0 0 0 0 0 0 0 0 0 0 1 0 0] binary form of 4\n",
      "4\n",
      "[0 0 0 0 0 0 0 0 0 0 0 0 0 0 0 0 0 1 0 1] binary form of 5\n",
      "5\n",
      "[0 0 0 0 0 0 0 0 0 0 0 0 0 0 0 0 0 1 1 0] binary form of 6\n",
      "6\n",
      "[0 0 0 0 0 0 0 0 0 0 0 0 0 0 0 0 0 1 1 1] binary form of 7\n",
      "7\n",
      "[0 0 0 0 0 0 0 0 0 0 0 0 0 0 0 0 1 0 0 0] binary form of 8\n",
      "8\n",
      "[0 0 0 0 0 0 0 0 0 0 0 0 0 0 0 0 1 0 0 1] binary form of 9\n",
      "9\n"
     ]
    }
   ],
   "source": [
    "my_bs = BitString(20)\n",
    "my_bs.set_integer_config(3221)\n",
    "\n",
    "# Let's make sure this worked:\n",
    "tmp = np.array([0,0,0,0,0,0,0,0,1,1,0,0,1,0,0,1,0,1,0,1])\n",
    "assert((my_bs.config == tmp).all())\n",
    "\n",
    "# We can provide an even stronger test here:\n",
    "for i in range(10):\n",
    "    my_bs.set_integer_config(i) # Converts from integer to binary\n",
    "    print(my_bs.set_integer_config(i), \"binary form of\", i)\n",
    "    assert(my_bs.integer() == i) # Converts back from binary to integer and tests\n",
    "    print(my_bs.integer())"
   ]
  },
  {
   "cell_type": "markdown",
   "id": "1a336bb4-4446-4e42-956d-e49713a6cfd2",
   "metadata": {},
   "source": [
    "---\n",
    "\n",
    "**6. Overload equality operator**\n",
    "\n",
    "Methods needed:\n",
    "- `__eq__()`"
   ]
  },
  {
   "cell_type": "code",
   "execution_count": 14,
   "id": "ff7ce669-58be-4b66-a53b-08cd7e63eafc",
   "metadata": {},
   "outputs": [
    {
     "name": "stdout",
     "output_type": "stream",
     "text": [
      "110010110100 :  3252\n",
      "110010110100 :  3252\n"
     ]
    }
   ],
   "source": [
    "my_bs1 = BitString(13)\n",
    "my_bs1.set_config([0,1,1,0,0,1,0,1,1,0,1,0,0])\n",
    "print(my_bs1, \": \", my_bs1.integer())\n",
    "\n",
    "my_bs2 = BitString(13)\n",
    "my_bs2.set_integer_config(3252)\n",
    "print(my_bs2, \": \", my_bs2.integer())\n",
    "\n",
    "\n",
    "assert(my_bs1 == my_bs2)\n",
    "\n",
    "my_bs2.flip_site(5)\n",
    "assert(my_bs1 != my_bs2)"
   ]
  },
  {
   "cell_type": "code",
   "execution_count": null,
   "id": "4ca7bef6-83f2-4668-a0b2-a8762c0f88f6",
   "metadata": {},
   "outputs": [],
   "source": []
  },
  {
   "cell_type": "code",
   "execution_count": null,
   "id": "f6ef169d-9fd7-4ce9-b831-9338338157e6",
   "metadata": {},
   "outputs": [],
   "source": []
  }
 ],
 "metadata": {
  "kernelspec": {
   "display_name": "molssi_best_practices",
   "language": "python",
   "name": "python3"
  },
  "language_info": {
   "codemirror_mode": {
    "name": "ipython",
    "version": 3
   },
   "file_extension": ".py",
   "mimetype": "text/x-python",
   "name": "python",
   "nbconvert_exporter": "python",
   "pygments_lexer": "ipython3",
   "version": "3.11.7"
  }
 },
 "nbformat": 4,
 "nbformat_minor": 5
}
