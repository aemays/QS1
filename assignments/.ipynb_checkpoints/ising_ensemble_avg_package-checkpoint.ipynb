{
 "cells": [
  {
   "cell_type": "markdown",
   "id": "b82c23fb",
   "metadata": {},
   "source": [
    "# Expectation values for Boltzmann Distribution\n",
    "\n",
    "In this notebook, we will write code to compute the expectation values of a few different properties, at a given temperature. We will then see how these change with temperature.\n",
    "\n",
    "This is basically the same thing we just did in the last notebook, except now we will be running the code by loading your proper python package!\n",
    "\n",
    "We will generalize this model slightly by adding one additional term, $\\sum_i \\mu_i s_i$. Thinking of this as a physical model, this is essentially adding a magnetic field to the system. In practice, this simply allows us to bias the results in favor of configurations that have an overall net magnetization. :\n",
    "$$ \\hat{H} = \\sum_{(i,j)\\in E}J_{ij} s_is_j + \\sum_i \\mu_i s_i.$$"
   ]
  },
  {
   "cell_type": "markdown",
   "id": "edf42490",
   "metadata": {},
   "source": [
    "## Load packages"
   ]
  },
  {
   "cell_type": "code",
   "execution_count": 1,
   "id": "b4d193f8",
   "metadata": {},
   "outputs": [],
   "source": [
    "\n",
    "import numpy as np\n",
    "import networkx as nx\n",
    "import matplotlib.pyplot as plt\n",
    "import montecarlo\n",
    "\n",
    "import importlib\n",
    "import montecarlo.isingHamiltonian\n",
    "importlib.reload(montecarlo.isingHamiltonian)\n",
    "from montecarlo.isingHamiltonian import IsingHamiltonian\n",
    "\n",
    "\n",
    "\n",
    "\n",
    "#from bitstring_class import BitString"
   ]
  },
  {
   "cell_type": "markdown",
   "id": "e13e02dd",
   "metadata": {},
   "source": [
    "## Create a graph that defines the Ising interactions"
   ]
  },
  {
   "cell_type": "code",
   "execution_count": 2,
   "id": "b69405be",
   "metadata": {},
   "outputs": [
    {
     "data": {
      "image/png": "[encoded data removed]",
      "text/plain": [
       "<Figure size 640x480 with 1 Axes>"
      ]
     },
     "metadata": {},
     "output_type": "display_data"
    }
   ],
   "source": [
    "N = 6\n",
    "Jval = 2.0\n",
    "G = nx.Graph()\n",
    "G.add_nodes_from([i for i in range(N)])\n",
    "G.add_edges_from([(i,(i+1) % G.number_of_nodes()) for i in range(N)])\n",
    "for e in G.edges:\n",
    "    G.edges[e]['weight'] = Jval\n",
    "\n",
    "# Now Draw the graph. \n",
    "plt.figure(1)\n",
    "nx.draw(G, with_labels=True, font_weight='bold')\n",
    "plt.show()"
   ]
  },
  {
   "cell_type": "markdown",
   "id": "3cc9c300",
   "metadata": {},
   "source": [
    "## Use your Python Package\n",
    "1. Add your `BitString` class to your package\n",
    "1. Define a new class called `IsingHamiltonian` in your package. It should take in a graph (G) and implement the following methods:\n",
    "\n",
    "    ```python\n",
    "    energy(config::BitString)\n",
    "    set_mu(mus::np.array)\n",
    "    compute_average_values(T::int) \n",
    "    ```"
   ]
  },
  {
   "cell_type": "code",
   "execution_count": 3,
   "id": "7db0311f",
   "metadata": {},
   "outputs": [
    {
     "name": "stdout",
     "output_type": "stream",
     "text": [
      "001100\n",
      "16.9\n"
     ]
    },
    {
     "ename": "AssertionError",
     "evalue": "",
     "output_type": "error",
     "traceback": [
      "\u001b[31m---------------------------------------------------------------------------\u001b[39m",
      "\u001b[31mAssertionError\u001b[39m                            Traceback (most recent call last)",
      "\u001b[36mCell\u001b[39m\u001b[36m \u001b[39m\u001b[32mIn[3]\u001b[39m\u001b[32m, line 13\u001b[39m\n\u001b[32m     11\u001b[39m e = ham.energy(conf)\n\u001b[32m     12\u001b[39m \u001b[38;5;28mprint\u001b[39m(e)\n\u001b[32m---> \u001b[39m\u001b[32m13\u001b[39m \u001b[38;5;28;01massert\u001b[39;00m(np.isclose(e, \u001b[32m3.8\u001b[39m))\n",
      "\u001b[31mAssertionError\u001b[39m: "
     ]
    }
   ],
   "source": [
    "# Define a new configuration instance for a 6-site lattice\n",
    "\n",
    "\n",
    "\n",
    "conf = montecarlo.BitString(N)\n",
    "ham = montecarlo.IsingHamiltonian(G)\n",
    "ham.set_mu(np.array([.1 for i in range(N)]))\n",
    "conf.flip_site(2)\n",
    "conf.flip_site(3)\n",
    "print(conf)\n",
    "e = ham.energy(conf)\n",
    "print(e)\n",
    "assert(np.isclose(e, 3.8))"
   ]
  },
  {
   "cell_type": "code",
   "execution_count": null,
   "id": "895cd186-2e40-48c6-9f3c-b67104321bc5",
   "metadata": {},
   "outputs": [],
   "source": [
    "# Define a new configuration instance for a 6-site lattice\n",
    "import montecarlo.isingHamiltonian\n",
    "print(montecarlo.isingHamiltonian.__file__)\n",
    "\n",
    "\n",
    "conf = montecarlo.BitString(N)\n",
    "ham = montecarlo.IsingHamiltonian(G)\n",
    "\n",
    "# Compute the average values for Temperature = 1\n",
    "E, M, HC, MS = ham.compute_average_values(1)\n",
    "\n",
    "\n",
    "\n",
    "print(\" E  = %12.8f\" %E)\n",
    "print(\" M  = %12.8f\" %M)\n",
    "print(\" HC = %12.8f\" %HC)\n",
    "print(\" MS = %12.8f\" %MS)\n",
    "\n",
    "assert(np.isclose(E,  -11.95991923))\n",
    "assert(np.isclose(M,   -0.00000000))\n",
    "assert(np.isclose(HC,   0.31925472))\n",
    "assert(np.isclose(MS,   0.01202961))\n"
   ]
  },
  {
   "cell_type": "markdown",
   "id": "59a61e1c-d89d-412d-a5f0-4f7d04eab8a5",
   "metadata": {},
   "source": [
    "# Properties vs Temperature (exact)"
   ]
  },
  {
   "cell_type": "code",
   "execution_count": 4,
   "id": "54071e30-5d52-475c-a5ff-f327bb632286",
   "metadata": {},
   "outputs": [
    {
     "name": "stdout",
     "output_type": "stream",
     "text": [
      " Number of configurations:  64\n"
     ]
    },
    {
     "ename": "AttributeError",
     "evalue": "'BitString' object has no attribute 'self'",
     "output_type": "error",
     "traceback": [
      "\u001b[31m---------------------------------------------------------------------------\u001b[39m",
      "\u001b[31mAttributeError\u001b[39m                            Traceback (most recent call last)",
      "\u001b[36mCell\u001b[39m\u001b[36m \u001b[39m\u001b[32mIn[4]\u001b[39m\u001b[32m, line 17\u001b[39m\n\u001b[32m     14\u001b[39m \u001b[38;5;28;01mfor\u001b[39;00m Ti \u001b[38;5;129;01min\u001b[39;00m \u001b[38;5;28mrange\u001b[39m(\u001b[32m1\u001b[39m,\u001b[32m100\u001b[39m):\n\u001b[32m     15\u001b[39m     T = \u001b[32m.1\u001b[39m*Ti\n\u001b[32m---> \u001b[39m\u001b[32m17\u001b[39m     E, M, HC, MS = ham.compute_average_values(T)\n\u001b[32m     19\u001b[39m     e_list.append(E)\n\u001b[32m     20\u001b[39m     m_list.append(M)\n",
      "\u001b[36mFile \u001b[39m\u001b[32m~/QuantumSoftware/montecarloPackage/montecarlo/isingHamiltonian.py:105\u001b[39m, in \u001b[36mIsingHamiltonian.compute_average_values\u001b[39m\u001b[34m(self, T)\u001b[39m\n\u001b[32m    103\u001b[39m \u001b[38;5;28;01mfor\u001b[39;00m meow \u001b[38;5;129;01min\u001b[39;00m \u001b[38;5;28mrange\u001b[39m(\u001b[32m2\u001b[39m**N):\n\u001b[32m    104\u001b[39m     \u001b[38;5;28mself\u001b[39m.bs.set_integer_config(meow)\n\u001b[32m--> \u001b[39m\u001b[32m105\u001b[39m     P = math.e**(-B * \u001b[38;5;28mself\u001b[39m.bs.self.energy())/Z\n\u001b[32m    106\u001b[39m     E += \u001b[38;5;28mself\u001b[39m.bs.self.energy()*P\n\u001b[32m    107\u001b[39m     EE += \u001b[38;5;28mself\u001b[39m.bs.self.energy()**\u001b[32m2\u001b[39m*P\n",
      "\u001b[31mAttributeError\u001b[39m: 'BitString' object has no attribute 'self'"
     ]
    }
   ],
   "source": [
    "# Initialize lists that we will fill with the property vs. temperature data\n",
    "e_list = []\n",
    "e2_list = []\n",
    "m_list = []\n",
    "m2_list = []\n",
    "T_list = []\n",
    "\n",
    "# Create BitString\n",
    "conf = montecarlo.BitString(N)\n",
    "ham = montecarlo.IsingHamiltonian(G)\n",
    "print(\" Number of configurations: \", 2**len(conf))\n",
    "\n",
    "\n",
    "for Ti in range(1,100):\n",
    "    T = .1*Ti\n",
    "    \n",
    "    E, M, HC, MS = ham.compute_average_values(T)\n",
    "    \n",
    "    e_list.append(E)\n",
    "    m_list.append(M)\n",
    "    e2_list.append(HC)\n",
    "    m2_list.append(MS)\n",
    "    T_list.append(T)\n",
    "\n",
    "\n",
    "plt.plot(T_list, e_list, label=\"energy\");\n",
    "plt.plot(T_list, m_list, label=\"magnetization\");\n",
    "plt.plot(T_list, m2_list, label=\"Susceptibility\");\n",
    "plt.plot(T_list, e2_list, label=\"Heat Capacity\");\n",
    "plt.legend();\n",
    "\n",
    "Tc_ind = np.argmax(m2_list)\n",
    "print(\" Critical Temperature: %12.8f \" %(T_list[Tc_ind]))\n",
    "print(\"     E:  %12.8f\" %(e_list[Tc_ind]))\n",
    "print(\"     M:  %12.8f\" %(m_list[Tc_ind]))\n",
    "print(\"     HC: %12.8f\" %(e2_list[Tc_ind]))\n",
    "print(\"     MS: %12.8f\" %(m2_list[Tc_ind]))\n",
    "Tc2 = T_list[np.argmax(e2_list)]\n",
    "print(\" Critical Temperature: %12.8f\" %(Tc2))\n",
    "\n",
    "print(\" E = %12.8f @ T = %12.8f\"% (e_list[T_list.index(2.00)], 2.0))\n"
   ]
  },
  {
   "cell_type": "markdown",
   "id": "a97b02a9-37ea-4f6c-b59b-cc0103181da6",
   "metadata": {},
   "source": [
    "----\n"
   ]
  },
  {
   "cell_type": "code",
   "execution_count": null,
   "id": "f7293079-ddaf-46cc-bfa7-5fc0ac7bb619",
   "metadata": {},
   "outputs": [],
   "source": []
  },
  {
   "cell_type": "code",
   "execution_count": null,
   "id": "999e4e1f-1649-4422-8932-8e549687720c",
   "metadata": {},
   "outputs": [],
   "source": []
  },
  {
   "cell_type": "code",
   "execution_count": null,
   "id": "0f3fdfff-0d9d-4b6d-9ddc-fd51a3c20597",
   "metadata": {},
   "outputs": [],
   "source": []
  },
  {
   "cell_type": "code",
   "execution_count": null,
   "id": "4a186b16-7b32-406f-9477-6180f638c27b",
   "metadata": {},
   "outputs": [],
   "source": []
  }
 ],
 "metadata": {
  "kernelspec": {
   "display_name": "Python 3 (ipykernel)",
   "language": "python",
   "name": "python3"
  },
  "language_info": {
   "codemirror_mode": {
    "name": "ipython",
    "version": 3
   },
   "file_extension": ".py",
   "mimetype": "text/x-python",
   "name": "python",
   "nbconvert_exporter": "python",
   "pygments_lexer": "ipython3",
   "version": "3.11.7"
  }
 },
 "nbformat": 4,
 "nbformat_minor": 5
}
