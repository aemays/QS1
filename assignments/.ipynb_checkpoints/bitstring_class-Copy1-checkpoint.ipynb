{
 "cells": [
  {
   "cell_type": "markdown",
   "id": "4c56e266-772e-46a7-b6c0-cab8144ee539",
   "metadata": {},
   "source": [
    "# BitString Class \n",
    "\n",
    "Write a Class that implements a bit representation that provides the functionality requested in the following questions."
   ]
  },
  {
   "cell_type": "code",
   "execution_count": 139,
   "id": "bddbcdba-1386-4471-ae58-7f6ef940557d",
   "metadata": {
    "tags": []
   },
   "outputs": [
    {
     "ename": "IndentationError",
     "evalue": "expected an indented block after 'if' statement on line 74 (3997665714.py, line 75)",
     "output_type": "error",
     "traceback": [
      "\u001b[0;36m  Cell \u001b[0;32mIn[139], line 75\u001b[0;36m\u001b[0m\n\u001b[0;31m    print(self.config[i])\u001b[0m\n\u001b[0m    ^\u001b[0m\n\u001b[0;31mIndentationError\u001b[0m\u001b[0;31m:\u001b[0m expected an indented block after 'if' statement on line 74\n"
     ]
    }
   ],
   "source": [
    "# Ensure numpy is imported correctly\n",
    "import numpy as np\n",
    "import math\n",
    "import copy as cp\n",
    "\n",
    "class BitString:\n",
    "    \"\"\"\n",
    "    Simple class to implement a config of bits\n",
    "    \"\"\"\n",
    "    def __init__(self, N):\n",
    "        self.N = N\n",
    "        self.config = np.zeros(N, dtype=int)\n",
    "\n",
    "    def __repr__(self):\n",
    "        \n",
    "        out = \"\"\n",
    "        for i in self.config:\n",
    "            out += str(i)\n",
    "        return out\n",
    "        \n",
    "\n",
    "    def __eq__(self, other):        \n",
    "        return all(self.config == other.config)\n",
    "    \n",
    "    def __len__(self):\n",
    "    \n",
    "        return len(self.config)\n",
    "\n",
    "    def on(self):\n",
    "        numba = 0\n",
    "        i = 0\n",
    "        integerSelf = 0\n",
    "        for i in self.config:\n",
    "            integerSelf = int(self.config[i])\n",
    "            if integerSelf == 1:\n",
    "                numba += 1\n",
    "        return numba\n",
    "\n",
    "    def off(self):\n",
    "        i = 0\n",
    "        numbarino = 0\n",
    "        for i in self.config:\n",
    "            integerSelf = int(self.config[i])\n",
    "            if integerSelf == 0:\n",
    "                numbarino += 1\n",
    "        return numbarino\n",
    "        \n",
    "    def flip_site(self,i):\n",
    "        self.i = i\n",
    "        if self.config[i] == 0:\n",
    "            self.config[i] += 1\n",
    "        else:\n",
    "            self.config[i] -= 1\n",
    "        \n",
    "    def integer(self):\n",
    "        \n",
    "        index = len(self.config) - 1\n",
    "        n = 0\n",
    "        i = 0\n",
    "        dummy = 0\n",
    "        for i in self.config:\n",
    "            if self.config[i] == 0:\n",
    "                if dummy == 0:\n",
    "                    n += 1\n",
    "            else:\n",
    "                dummy += 1\n",
    "                \n",
    "        self.config = self.config[n:]\n",
    "        print(self.config)\n",
    "        decNum = 0\n",
    "        i = 0\n",
    "        index = len(self.config) - 1\n",
    "        for i in self.config:\n",
    "            if self.config[i] == 1:\n",
    "            print(self.config[i])\n",
    "                decNum = decNum + math.pow(2, index)\n",
    "                print(decNum)\n",
    "            print(self.config)\n",
    "            index -= 1\n",
    "            print(index)\n",
    "\n",
    "        return int(decNum)\n",
    "    #int(decNum)\n",
    "            \n",
    "    def set_config(self, s:list[int]):\n",
    "        self.config = s\n",
    "        return self.config\n",
    "\n",
    "    def set_integer_config(self, dec:int):\n",
    "        #found a binary function buit in to python? Idk if I'm supposed to use this but I shall\n",
    "\n",
    "        self.config = np.array(list(map(int, bin(dec)[2:])))\n",
    "        \n",
    "        length = len(self.config)\n",
    "        if length < self.N:\n",
    "            for i in range(self.N - length):\n",
    "                self.config = np.insert(self.config, 0,0)\n",
    "        else:\n",
    "            self.config = np.array(list(map(int,bin(dec)[2:])))\n",
    "        return self.config\n",
    "    "
   ]
  },
  {
   "cell_type": "code",
   "execution_count": null,
   "id": "687b344e",
   "metadata": {},
   "outputs": [],
   "source": [
    "http://localhost:8888/lab?token=cf3fd4cd894c772b74a7919d63987a7c78a6f12f62ebb072"
   ]
  },
  {
   "cell_type": "markdown",
   "id": "412a2c97-a21f-49ea-a72a-b8c6d2ca490a",
   "metadata": {},
   "source": [
    "---\n",
    "\n",
    "**1. Create an zero `BitString` of length 8 and flip a few bits and print the output.**\n",
    "\n",
    "Methods needed:\n",
    "- `__str__()`\n",
    "- `flip()`\n",
    "- `__len__()`"
   ]
  },
  {
   "cell_type": "code",
   "execution_count": 135,
   "id": "fa614f11-1ec9-4f5f-8452-a62e5c7635db",
   "metadata": {
    "tags": []
   },
   "outputs": [
    {
     "name": "stdout",
     "output_type": "stream",
     "text": [
      " The following should be 0:\n",
      "00000000\n",
      " The following should have 0,2,7 bits flipped:\n",
      "10100001\n",
      " Length of bitstring:  8\n"
     ]
    }
   ],
   "source": [
    "my_bs = BitString(8)\n",
    "\n",
    "my_bs.flip_site(2)\n",
    "my_bs.flip_site(2)\n",
    "print(\" The following should be 0:\")\n",
    "print(my_bs)\n",
    "\n",
    "my_bs.flip_site(2)\n",
    "my_bs.flip_site(7)\n",
    "my_bs.flip_site(0)\n",
    "\n",
    "print(\" The following should have 0,2,7 bits flipped:\")\n",
    "print(my_bs)\n",
    "\n",
    "print(\" Length of bitstring: \", len(my_bs))\n",
    "assert(len(my_bs) == 8)\n"
   ]
  },
  {
   "cell_type": "markdown",
   "id": "794abfaf-a8bb-4d36-80a6-88f88dffb49b",
   "metadata": {},
   "source": [
    "---\n",
    "\n",
    "**2. Add a method that lets you directly set the value of the bitstring by providing a string of 0s and 1s:**\n",
    "\n",
    "Methods needed:\n",
    "- `set_config()`"
   ]
  },
  {
   "cell_type": "code",
   "execution_count": 136,
   "id": "4d896d0a-be94-4e02-b0ff-74a7dfca68a2",
   "metadata": {
    "tags": []
   },
   "outputs": [
    {
     "name": "stdout",
     "output_type": "stream",
     "text": [
      "[0, 1, 1, 0, 0, 1, 0, 0, 1, 0, 1, 0, 0]\n",
      "0110010010100\n"
     ]
    }
   ],
   "source": [
    "my_bs = BitString(13)\n",
    "print(my_bs.set_config([0,1,1,0,0,1,0,0,1,0,1,0,0]))\n",
    "print(my_bs)"
   ]
  },
  {
   "cell_type": "markdown",
   "id": "b96086df-639b-447d-a438-8fe1a7f42fe1",
   "metadata": {},
   "source": [
    "---\n",
    "\n",
    "**3. Add a method that returns number of `on` bits and one that returns the number of `off` bits.**\n",
    "\n",
    "Methods needed:\n",
    "- `on()`\n",
    "- `off()`"
   ]
  },
  {
   "cell_type": "code",
   "execution_count": 137,
   "id": "dfbf5a9b-54dc-428d-8f1f-e0f9e23a5ed2",
   "metadata": {},
   "outputs": [
    {
     "name": "stdout",
     "output_type": "stream",
     "text": [
      " on:   5\n",
      " off:  8\n"
     ]
    },
    {
     "data": {
      "text/plain": [
       "'\\nassert(my_bs.on() == 5)\\nassert(my_bs.off() == 8)\\n'"
      ]
     },
     "execution_count": 137,
     "metadata": {},
     "output_type": "execute_result"
    }
   ],
   "source": [
    "print(\" on:  \", my_bs.on())\n",
    "print(\" off: \", my_bs.off())\n",
    "'''\n",
    "assert(my_bs.on() == 5)\n",
    "assert(my_bs.off() == 8)\n",
    "'''"
   ]
  },
  {
   "cell_type": "markdown",
   "id": "bca221fd-22ce-48eb-b072-8fc59cb706ac",
   "metadata": {
    "tags": []
   },
   "source": [
    "---\n",
    "\n",
    "**4. Add a method that returns the associated integer (decimal).**\n",
    "\n",
    "Methods needed:\n",
    "- `integer()`"
   ]
  },
  {
   "cell_type": "code",
   "execution_count": 138,
   "id": "b7bb3328-5bd3-462c-ad39-dde7516d151c",
   "metadata": {
    "tags": []
   },
   "outputs": [
    {
     "name": "stdout",
     "output_type": "stream",
     "text": [
      "[1, 1, 0, 0, 1, 0, 0, 1, 0, 1, 0, 0]\n",
      "1\n",
      "2048.0\n",
      "[1, 1, 0, 0, 1, 0, 0, 1, 0, 1, 0, 0]\n",
      "10\n",
      "1\n",
      "3072.0\n",
      "[1, 1, 0, 0, 1, 0, 0, 1, 0, 1, 0, 0]\n",
      "9\n",
      "1\n",
      "3584.0\n",
      "[1, 1, 0, 0, 1, 0, 0, 1, 0, 1, 0, 0]\n",
      "8\n",
      "1\n",
      "3840.0\n",
      "[1, 1, 0, 0, 1, 0, 0, 1, 0, 1, 0, 0]\n",
      "7\n",
      "1\n",
      "3968.0\n",
      "[1, 1, 0, 0, 1, 0, 0, 1, 0, 1, 0, 0]\n",
      "6\n",
      "1\n",
      "4032.0\n",
      "[1, 1, 0, 0, 1, 0, 0, 1, 0, 1, 0, 0]\n",
      "5\n",
      "1\n",
      "4064.0\n",
      "[1, 1, 0, 0, 1, 0, 0, 1, 0, 1, 0, 0]\n",
      "4\n",
      "1\n",
      "4080.0\n",
      "[1, 1, 0, 0, 1, 0, 0, 1, 0, 1, 0, 0]\n",
      "3\n",
      "1\n",
      "4088.0\n",
      "[1, 1, 0, 0, 1, 0, 0, 1, 0, 1, 0, 0]\n",
      "2\n",
      "1\n",
      "4092.0\n",
      "[1, 1, 0, 0, 1, 0, 0, 1, 0, 1, 0, 0]\n",
      "1\n",
      "1\n",
      "4094.0\n",
      "[1, 1, 0, 0, 1, 0, 0, 1, 0, 1, 0, 0]\n",
      "0\n",
      "1\n",
      "4095.0\n",
      "[1, 1, 0, 0, 1, 0, 0, 1, 0, 1, 0, 0]\n",
      "-1\n",
      "4095\n",
      "[1, 1, 0, 0, 1, 0, 0, 1, 0, 1, 0, 0]\n",
      "1\n",
      "2048.0\n",
      "[1, 1, 0, 0, 1, 0, 0, 1, 0, 1, 0, 0]\n",
      "10\n",
      "1\n",
      "3072.0\n",
      "[1, 1, 0, 0, 1, 0, 0, 1, 0, 1, 0, 0]\n",
      "9\n",
      "1\n",
      "3584.0\n",
      "[1, 1, 0, 0, 1, 0, 0, 1, 0, 1, 0, 0]\n",
      "8\n",
      "1\n",
      "3840.0\n",
      "[1, 1, 0, 0, 1, 0, 0, 1, 0, 1, 0, 0]\n",
      "7\n",
      "1\n",
      "3968.0\n",
      "[1, 1, 0, 0, 1, 0, 0, 1, 0, 1, 0, 0]\n",
      "6\n",
      "1\n",
      "4032.0\n",
      "[1, 1, 0, 0, 1, 0, 0, 1, 0, 1, 0, 0]\n",
      "5\n",
      "1\n",
      "4064.0\n",
      "[1, 1, 0, 0, 1, 0, 0, 1, 0, 1, 0, 0]\n",
      "4\n",
      "1\n",
      "4080.0\n",
      "[1, 1, 0, 0, 1, 0, 0, 1, 0, 1, 0, 0]\n",
      "3\n",
      "1\n",
      "4088.0\n",
      "[1, 1, 0, 0, 1, 0, 0, 1, 0, 1, 0, 0]\n",
      "2\n",
      "1\n",
      "4092.0\n",
      "[1, 1, 0, 0, 1, 0, 0, 1, 0, 1, 0, 0]\n",
      "1\n",
      "1\n",
      "4094.0\n",
      "[1, 1, 0, 0, 1, 0, 0, 1, 0, 1, 0, 0]\n",
      "0\n",
      "1\n",
      "4095.0\n",
      "[1, 1, 0, 0, 1, 0, 0, 1, 0, 1, 0, 0]\n",
      "-1\n"
     ]
    },
    {
     "ename": "AssertionError",
     "evalue": "",
     "output_type": "error",
     "traceback": [
      "\u001b[0;31m---------------------------------------------------------------------------\u001b[0m",
      "\u001b[0;31mAssertionError\u001b[0m                            Traceback (most recent call last)",
      "Cell \u001b[0;32mIn[138], line 2\u001b[0m\n\u001b[1;32m      1\u001b[0m \u001b[38;5;28mprint\u001b[39m(my_bs\u001b[38;5;241m.\u001b[39minteger())\n\u001b[0;32m----> 2\u001b[0m \u001b[38;5;28;01massert\u001b[39;00m(my_bs\u001b[38;5;241m.\u001b[39minteger() \u001b[38;5;241m==\u001b[39m \u001b[38;5;241m3220\u001b[39m)\n",
      "\u001b[0;31mAssertionError\u001b[0m: "
     ]
    }
   ],
   "source": [
    "print(my_bs.integer())\n",
    "assert(my_bs.integer() == 3220)"
   ]
  },
  {
   "cell_type": "markdown",
   "id": "ecbb0843-eeae-4d14-a7af-7cf49696c6f3",
   "metadata": {
    "tags": []
   },
   "source": [
    "---\n",
    "**5. Add a method that lets you directly set the value of the bitstring by providing a decimal integer.** \n",
    "\n",
    "Also include  an optional keyword `digits` to let the user specify the length of the string.\n",
    "\n",
    "Methods needed:\n",
    "- `set_integer_config()`"
   ]
  },
  {
   "cell_type": "code",
   "execution_count": 79,
   "id": "609be1a4-2335-464e-91c7-0ace2779ccbb",
   "metadata": {
    "tags": []
   },
   "outputs": [
    {
     "name": "stdout",
     "output_type": "stream",
     "text": [
      "[]\n",
      "20\n",
      "0\n",
      "[0 0 0 0 0 0 0 0 0 0 0 0 0 0 0 0 0 0 0 0]\n",
      "[]\n",
      "20\n",
      "True\n",
      "[]\n",
      "0\n",
      "0\n",
      "[0 0 0 0 0 0 0 0 0 0 0 0 0 0 0 0 0 0 0 1]\n",
      "[]\n",
      "20\n",
      "False\n",
      "[]\n",
      "0\n",
      "0\n",
      "[0 0 0 0 0 0 0 0 0 0 0 0 0 0 0 0 0 0 1 0]\n",
      "[]\n",
      "20\n",
      "False\n",
      "[]\n",
      "0\n",
      "0\n",
      "[0 0 0 0 0 0 0 0 0 0 0 0 0 0 0 0 0 0 1 1]\n",
      "[]\n",
      "20\n",
      "False\n",
      "[]\n",
      "0\n",
      "0\n",
      "[0 0 0 0 0 0 0 0 0 0 0 0 0 0 0 0 0 1 0 0]\n",
      "[]\n",
      "20\n",
      "False\n",
      "[]\n",
      "0\n",
      "0\n",
      "[0 0 0 0 0 0 0 0 0 0 0 0 0 0 0 0 0 1 0 1]\n",
      "[]\n",
      "20\n",
      "False\n",
      "[]\n",
      "0\n",
      "0\n",
      "[0 0 0 0 0 0 0 0 0 0 0 0 0 0 0 0 0 1 1 0]\n",
      "[]\n",
      "20\n",
      "False\n",
      "[]\n",
      "0\n",
      "0\n",
      "[0 0 0 0 0 0 0 0 0 0 0 0 0 0 0 0 0 1 1 1]\n",
      "[]\n",
      "20\n",
      "False\n",
      "[]\n",
      "0\n",
      "0\n",
      "[0 0 0 0 0 0 0 0 0 0 0 0 0 0 0 0 1 0 0 0]\n",
      "[]\n",
      "20\n",
      "False\n",
      "[]\n",
      "0\n",
      "0\n",
      "[0 0 0 0 0 0 0 0 0 0 0 0 0 0 0 0 1 0 0 1]\n",
      "[]\n",
      "20\n",
      "False\n",
      "[]\n",
      "0\n",
      "0\n"
     ]
    }
   ],
   "source": [
    "my_bs = BitString(20)\n",
    "my_bs.set_integer_config(3221)\n",
    "\n",
    "# Let's make sure this worked:\n",
    "tmp = np.array([0,0,0,0,0,0,0,0,1,1,0,0,1,0,0,1,0,1,0,1])\n",
    "assert((my_bs.config == tmp).all())\n",
    "\n",
    "# We can provide an even stronger test here:\n",
    "print(my_bs.integer())\n",
    "for i in range(10):\n",
    "    my_bs.set_integer_config(i) # Converts from integer to binary\n",
    "    print(my_bs.set_integer_config(i))\n",
    "    print(my_bs.integer() == i) # Converts back from binary to integer and tests\n",
    "    print(my_bs.integer())"
   ]
  },
  {
   "cell_type": "markdown",
   "id": "1a336bb4-4446-4e42-956d-e49713a6cfd2",
   "metadata": {},
   "source": [
    "---\n",
    "\n",
    "**6. Overload equality operator**\n",
    "\n",
    "Methods needed:\n",
    "- `__eq__()`"
   ]
  },
  {
   "cell_type": "code",
   "execution_count": 63,
   "id": "ff7ce669-58be-4b66-a53b-08cd7e63eafc",
   "metadata": {},
   "outputs": [
    {
     "name": "stdout",
     "output_type": "stream",
     "text": [
      "[1, 1, 0, 0, 1, 0, 1, 1, 0, 1, 0]\n",
      "11001011010 :  8188\n",
      "[1 1 0 0 1 0 1 1 0 1 0]\n",
      "11001011010 :  8188\n"
     ]
    }
   ],
   "source": [
    "my_bs1 = BitString(13)\n",
    "my_bs1.set_config([0,1,1,0,0,1,0,1,1,0,1,0,0])\n",
    "print(my_bs1, \": \", my_bs1.integer())\n",
    "\n",
    "my_bs2 = BitString(13)\n",
    "my_bs2.set_integer_config(3252)\n",
    "print(my_bs2, \": \", my_bs2.integer())\n",
    "\n",
    "\n",
    "assert(my_bs1 == my_bs2)\n",
    "\n",
    "my_bs2.flip_site(5)\n",
    "assert(my_bs1 != my_bs2)"
   ]
  },
  {
   "cell_type": "code",
   "execution_count": null,
   "id": "b7ce92b2-4338-42ea-ae50-95dc6ca81559",
   "metadata": {},
   "outputs": [],
   "source": []
  },
  {
   "cell_type": "code",
   "execution_count": null,
   "id": "17a76476-3832-4f92-a69f-226d7ce45f60",
   "metadata": {},
   "outputs": [],
   "source": []
  },
  {
   "cell_type": "code",
   "execution_count": null,
   "id": "88420357-5d77-4c6c-8830-bf624e8095e6",
   "metadata": {},
   "outputs": [],
   "source": []
  },
  {
   "cell_type": "code",
   "execution_count": null,
   "id": "a4720dd9-c043-4668-8756-117e38b6609c",
   "metadata": {},
   "outputs": [],
   "source": []
  }
 ],
 "metadata": {
  "kernelspec": {
   "display_name": "Python 3 (ipykernel)",
   "language": "python",
   "name": "python3"
  },
  "language_info": {
   "codemirror_mode": {
    "name": "ipython",
    "version": 3
   },
   "file_extension": ".py",
   "mimetype": "text/x-python",
   "name": "python",
   "nbconvert_exporter": "python",
   "pygments_lexer": "ipython3",
   "version": "3.11.11"
  }
 },
 "nbformat": 4,
 "nbformat_minor": 5
}
