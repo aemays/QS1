{
 "cells": [
  {
   "cell_type": "markdown",
   "id": "e7021fa8",
   "metadata": {},
   "source": [
    "# Ising Model \n",
    "For a graph, $G = (E,V)$, defined by a set of edges, $E$, and vertices, $V$, we want to represent an Ising model, where the edge weights, $w_{ij}$ are given by the spin interactions, i.e., $w_{ij} = J_{ij}$.\n",
    "\n",
    "Given a configuration of spins (e.g., $\\uparrow\\downarrow\\downarrow\\uparrow\\downarrow$) we can define the energy using what is referred to as an Ising Hamiltonian:\n",
    "$$ \\hat{H} = \\sum_{(i,j)\\in E}J_{ij} s_is_j$$\n",
    "where, $s_i=1$ if the $i^{th}$ spin is `up` and $s_i=-1$ if it is `down`, and the sumation runs over all edges in the graph. \n",
    "**Note:** As we saw before, this Hamiltonian operator is simple, in that a single `BitString` returns a single energy. This is because the matrix representation of the Hamiltonian operator in the computational basis (i.e., basis of all possible `BitString`'s) is a diagonal matrix. However, most quantum mechanical Hamiltonians will not be diagonal, and in that case applying $H$ to a single `BitString` would generate multiple `BitString`'s.   \n"
   ]
  },
  {
   "cell_type": "markdown",
   "id": "6ea117c0",
   "metadata": {},
   "source": [
    "\n",
    "# Thermodynamic averages\n",
    "In the previous notebook, we used the Hamiltonian (which was defined as a graph) to find the lowest \"energy\" configuration (`BitString`). However, often times we want to compute average values of an observable over all possible configurations. Imagine that you have a bag containing some mixture of `BitString`'s. If we reach into the bag and pull out a `BitString` at random, the probability of observing the specific `BitString` $\\ket{\\alpha}$ will be denoted as $P(\\alpha)$. Each possible `BitString` has its own probability. \n",
    "\n",
    "Given this situation, what is the average energy in the bag? To answer this, we could just pull out each `BitString`, measure it's energy, add them all up, and divide by the total number of `BitString`s. Or if we knew the probabilty of observing each possible `BitString`, we could equivalently, add up the probabilities times the energy, $E(\\alpha)$, of each possible `BitString`:\n",
    "$$\n",
    "\\left<E\\right> = \\sum_\\alpha P(\\alpha)E(\\alpha)\n",
    "$$ \n",
    "In this sense, the average energy (or any average quantity) depends on the given probability distribution in the bag. \n",
    "\n",
    "While there are an infinite number of possible probability distributions one might interact with, a very common distribution (and the one we will focus on) is the `Gibbs Distribution`, also called the `Boltzmann Distribution`:\n",
    "$$\n",
    "P(\\alpha) = \\frac{e^{-\\beta E(\\alpha)}}{Z} = \\frac{e^{-\\beta E(\\alpha)}}{\\sum_{\\alpha'}e^{-\\beta E(\\alpha')}}\n",
    "$$\n",
    "where $\\beta$ sometimes has a physical meaning of $\\beta = 1/kT$, where $k$ is the Boltzmann constant, $k = 1.38064852 \\times 10^{-23} J/K$ and $T$ is the temperature in Kelvin. We generally refer to the normalization constant $Z$ as the partition function. \n",
    "\n",
    "This expression, defines the probability of observing a particular configuration of spins, $\\alpha$. Notice the way a given configuration's probability depends on the energy; the probability of pulling $\\alpha$ out of your bag decays exponentially with increasing energy of $\\alpha$, $E(\\alpha)$. This expression governs the behavior of the vast majority of physical systems, meaning that in nature at low temperatures, one typically expects to observe the lowest possible configuration of a system.\n",
    "\n",
    "If the population (e.g., the bag of `BitString`s) is known to form a Boltzmann distribution, the expectation value of any quantity, `A`, can be defined as:\n",
    "$$\n",
    "\\left<A\\right> = \\frac{\\sum_\\alpha e^{-\\beta E(\\alpha)}A(\\alpha)}{Z}.\n",
    "$$"
   ]
  },
  {
   "cell_type": "markdown",
   "id": "354ba7ae",
   "metadata": {},
   "source": [
    "# Properties\n",
    "\n",
    "For any fixed state, $\\alpha$, the `magnetization` ($M$) is proportional to the _excess_ number of spins pointing up or down:\n",
    "$$M(\\alpha) = N_{\\text{up}}(\\alpha) - N_{\\text{down}}(\\alpha).$$\n",
    "For example, $M(\\uparrow\\downarrow\\downarrow\\uparrow\\downarrow)=-1$. \n",
    "As a dynamical, fluctuating system, each time you measure the magnetization, the system might be in a different state ($\\alpha$) and so you'll get a different number!\n",
    "However, we already know what the probability of measuring any particular $\\alpha$ is, so in order to compute the average magnetization, $\\left<M\\right>$, we just need to multiply the magnetization of each possible configuration times the probability of it being measured, and then add them all up!\n",
    "$$ \\left<M\\right> = \\sum_\\alpha M(\\alpha)P(\\alpha).$$\n",
    "In fact, any average value can be obtained by adding up the value of an individual configuration multiplied by it's probability:\n",
    "$$ \\left<E\\right> = \\sum_\\alpha E(\\alpha)P(\\alpha).$$\n",
    "\n",
    "This means that to exactly obtain any average value (also known as an `expectation value`) computationally, we must compute the both the value and probability of all possible configurations. This becomes extremely expensive as the number of spins ($N$) increases.\n",
    "\n",
    "The expectation values we will compute in this notebook are\n",
    "\\begin{align}\n",
    "\\text{Energy} &= \\left<E\\right> \\\\\n",
    "\\text{Magnetization} &= \\left<M\\right> \\\\\n",
    "\\text{Heat Capacity} &= \\left(\\left<E^2\\right>-\\left<E\\right>^2\\right)T^{-2} \\\\\n",
    "\\text{Magnetic Susceptibility} &= \\left(\\left<M^2\\right>-\\left<M\\right>^2\\right)T^{-1}\n",
    "\\end{align}"
   ]
  },
  {
   "cell_type": "markdown",
   "id": "b82c23fb",
   "metadata": {},
   "source": [
    "# Expectation values for Boltzmann Distribution\n",
    "\n",
    "In this notebook, we will write code to compute the expectation values of a few different properties, at a given temperature. We will then see how these change with temperature. "
   ]
  },
  {
   "cell_type": "markdown",
   "id": "edf42490",
   "metadata": {},
   "source": [
    "## Load packages"
   ]
  },
  {
   "cell_type": "code",
   "execution_count": 1,
   "id": "b4d193f8",
   "metadata": {},
   "outputs": [],
   "source": [
    "import numpy as np\n",
    "import networkx as nx\n",
    "import matplotlib.pyplot as plt\n",
    "import random\n",
    "import math\n",
    "import copy as cp\n",
    "random.seed(2)"
   ]
  },
  {
   "cell_type": "markdown",
   "id": "e13e02dd",
   "metadata": {},
   "source": [
    "## Create a graph that defines the Ising interactions"
   ]
  },
  {
   "cell_type": "code",
   "execution_count": 3,
   "id": "b69405be",
   "metadata": {},
   "outputs": [
    {
     "data": {
      "image/png": "[encoded data removed]",
      "text/plain": [
       "<Figure size 640x480 with 1 Axes>"
      ]
     },
     "metadata": {},
     "output_type": "display_data"
    }
   ],
   "source": [
    "N = 6\n",
    "Jval = 2.0\n",
    "G = nx.Graph()\n",
    "G.add_nodes_from([i for i in range(N)])\n",
    "G.add_edges_from([(i,(i+1)% G.number_of_nodes() ) for i in range(N)])\n",
    "for e in G.edges:\n",
    "    G.edges[e]['weight'] = Jval\n",
    "\n",
    "# Now Draw the graph. \n",
    "plt.figure(1)\n",
    "nx.draw(G, with_labels=True, font_weight='bold')\n",
    "plt.show()"
   ]
  },
  {
   "cell_type": "markdown",
   "id": "d996befd",
   "metadata": {},
   "source": [
    "## Add your BitString class here:"
   ]
  },
  {
   "cell_type": "code",
   "execution_count": 2,
   "id": "88847564",
   "metadata": {},
   "outputs": [
    {
     "name": "stdout",
     "output_type": "stream",
     "text": [
      " The following should be 0:\n",
      "00000000\n",
      " The following should have 0,2,7 bits flipped:\n",
      "10100001\n",
      " Length of bitstring:  8\n",
      "[0, 1, 1, 0, 0, 1, 0, 0, 1, 0, 1, 0, 0]\n",
      "0110010010100\n",
      " on:   5\n",
      " off:  8\n",
      "3220\n",
      "[0 0 0 0 0 0 0 0 0 0 0 0 0 0 0 0 0 0 0 0] binary form of 0\n",
      "0\n",
      "[0 0 0 0 0 0 0 0 0 0 0 0 0 0 0 0 0 0 0 1] binary form of 1\n",
      "1\n",
      "[0 0 0 0 0 0 0 0 0 0 0 0 0 0 0 0 0 0 1 0] binary form of 2\n",
      "2\n",
      "[0 0 0 0 0 0 0 0 0 0 0 0 0 0 0 0 0 0 1 1] binary form of 3\n",
      "3\n",
      "[0 0 0 0 0 0 0 0 0 0 0 0 0 0 0 0 0 1 0 0] binary form of 4\n",
      "4\n",
      "[0 0 0 0 0 0 0 0 0 0 0 0 0 0 0 0 0 1 0 1] binary form of 5\n",
      "5\n",
      "[0 0 0 0 0 0 0 0 0 0 0 0 0 0 0 0 0 1 1 0] binary form of 6\n",
      "6\n",
      "[0 0 0 0 0 0 0 0 0 0 0 0 0 0 0 0 0 1 1 1] binary form of 7\n",
      "7\n",
      "[0 0 0 0 0 0 0 0 0 0 0 0 0 0 0 0 1 0 0 0] binary form of 8\n",
      "8\n",
      "[0 0 0 0 0 0 0 0 0 0 0 0 0 0 0 0 1 0 0 1] binary form of 9\n",
      "9\n",
      "110010110100 :  3252\n",
      "110010110100 :  3252\n"
     ]
    }
   ],
   "source": [
    "from bitstring_class import BitString"
   ]
  },
  {
   "cell_type": "markdown",
   "id": "a9f7d36d",
   "metadata": {},
   "source": [
    "## Write your energy function here:"
   ]
  },
  {
   "cell_type": "code",
   "execution_count": 1,
   "id": "f93baaa9",
   "metadata": {},
   "outputs": [
    {
     "ename": "NameError",
     "evalue": "name 'BitString' is not defined",
     "output_type": "error",
     "traceback": [
      "\u001b[31m---------------------------------------------------------------------------\u001b[39m",
      "\u001b[31mNameError\u001b[39m                                 Traceback (most recent call last)",
      "\u001b[36mCell\u001b[39m\u001b[36m \u001b[39m\u001b[32mIn[1]\u001b[39m\u001b[32m, line 1\u001b[39m\n\u001b[32m----> \u001b[39m\u001b[32m1\u001b[39m \u001b[38;5;28;01mdef\u001b[39;00m\u001b[38;5;250m \u001b[39m\u001b[34menergy\u001b[39m(bs: BitString, G: nx.Graph):\n\u001b[32m      2\u001b[39m \u001b[38;5;250m    \u001b[39m\u001b[33;03m\"\"\"\u001b[39;00m\n\u001b[32m      3\u001b[39m \u001b[33;03m    Compute energy of configuration, `bs`\u001b[39;00m\n\u001b[32m      4\u001b[39m \n\u001b[32m   (...)\u001b[39m\u001b[32m     17\u001b[39m \u001b[33;03m        Energy of the input configuration\u001b[39;00m\n\u001b[32m     18\u001b[39m \u001b[33;03m    \"\"\"\u001b[39;00m\n\u001b[32m     19\u001b[39m     x = \u001b[32m0\u001b[39m\n",
      "\u001b[31mNameError\u001b[39m: name 'BitString' is not defined"
     ]
    }
   ],
   "source": [
    "def energy(bs: BitString, G: nx.Graph):\n",
    "    \"\"\"\n",
    "    Compute energy of configuration, `bs`\n",
    "\n",
    "        .. math::\n",
    "            E = \\\\left<\\\\hat{H}\\\\right>\n",
    "\n",
    "    Parameters\n",
    "    ----------\n",
    "    bs   : Bitstring\n",
    "        input configuration\n",
    "    G    : Graph\n",
    "        input graph defining the Hamiltonian\n",
    "    Returns\n",
    "    -------\n",
    "    energy  : float\n",
    "        Energy of the input configuration\n",
    "    \"\"\"\n",
    "    x = 0\n",
    "    y = 0\n",
    "    hHat = 0\n",
    "    f = 0\n",
    "    for u,v in G.edges():\n",
    "        f = G.edges[u,v]\n",
    "        f = f.get('weight')\n",
    "        if int(bs.config[u]) == 1:\n",
    "            x = 1\n",
    "        else:\n",
    "            x = -1\n",
    "        if int(bs.config[v]) == 1:\n",
    "            y = 1\n",
    "        else:\n",
    "            y = -1\n",
    "        hHat += f*x*y\n",
    "    return hHat\n",
    "\n",
    "    #normally need to take the expectation value of the hamiltonian operator but the matrix representation of the operator is still diagonal - check this\n",
    "    \n",
    "\n"
   ]
  },
  {
   "cell_type": "markdown",
   "id": "6ca7718c",
   "metadata": {},
   "source": [
    "## Write function to compute the thermodynamic averages"
   ]
  },
  {
   "cell_type": "code",
   "execution_count": 30,
   "id": "b906af0d",
   "metadata": {},
   "outputs": [],
   "source": [
    "def compute_average_values(bs:BitString, G: nx.Graph, T: float):\n",
    "    from scipy.special import logsumexp\n",
    "    import numpy as np\n",
    "\n",
    "    \n",
    "    \n",
    "    E  = 0\n",
    "    M  = 0.0\n",
    "    Z  = 0\n",
    "    EE = 0.0\n",
    "    MM = 0.0\n",
    "    P = 0.0\n",
    "    \n",
    "    # Write your function here!\n",
    "    #k = 1.380649e-23 #Joules/Kelvin\n",
    "    k = 1\n",
    "    B = 1/(k*T)\n",
    "    y = [] #energy list\n",
    "    x = [] #indice list\n",
    "    dummy = BitString(N)\n",
    "\n",
    "    \n",
    "    for L in range(pow(2,N)):\n",
    "        x.append(L)\n",
    "        dummy.set_integer_config(L)\n",
    "        y.append(energy(dummy,G))\n",
    "    \n",
    "    #eArray = np.array(y)\n",
    "    #logP = -B * energy(bs,G) - (logsumexp(-B * eArray))\n",
    "    #P = math.pow(math.e, logP)\n",
    "    for m in range(2**N):\n",
    "        bs.set_integer_config(m)\n",
    "        Z += math.e**(-B*energy(bs,G))\n",
    "    \n",
    "    for meow in range(2**N):\n",
    "        bs.set_integer_config(meow)\n",
    "        P = math.e**(-B * energy(bs,G))/Z\n",
    "        E += energy(bs,G)*P\n",
    "        EE += energy(bs,G)**2*P\n",
    "\n",
    "\n",
    "        shawarma = 0\n",
    "        for numba in bs.config:\n",
    "            if numba == 1:\n",
    "                shawarma += 1\n",
    "            if numba == 0:\n",
    "                shawarma += -1\n",
    "        MM += shawarma**2*P\n",
    "\n",
    "        M+= shawarma * P\n",
    "    \n",
    "    \n",
    "    HC = (EE - E**2) * T**-2\n",
    "    \n",
    "    MS = (MM - M**2) * T**-1\n",
    "    \n",
    "    return E, M, HC, MS  "
   ]
  },
  {
   "cell_type": "code",
   "execution_count": 31,
   "id": "895cd186-2e40-48c6-9f3c-b67104321bc5",
   "metadata": {},
   "outputs": [
    {
     "name": "stdout",
     "output_type": "stream",
     "text": [
      " E  = -11.95991923\n",
      " M  =  -0.00000000\n",
      " HC =   0.31925472\n",
      " MS =   0.01202961\n"
     ]
    }
   ],
   "source": [
    "# Define a new configuration instance for a 6-site lattice\n",
    "conf = BitString(N)\n",
    "\n",
    "# Compute the average values for Temperature = 1\n",
    "E, M, HC, MS = compute_average_values(conf, G, 1)\n",
    "\n",
    "\n",
    "print(\" E  = %12.8f\" %E)\n",
    "print(\" M  = %12.8f\" %M)\n",
    "print(\" HC = %12.8f\" %HC)\n",
    "print(\" MS = %12.8f\" %MS)\n",
    "\n",
    "assert(np.isclose(E,  -11.95991923))\n",
    "assert(np.isclose(M,   -0.00000000))\n",
    "assert(np.isclose(HC,   0.31925472))\n",
    "assert(np.isclose(MS,   0.01202961))\n"
   ]
  },
  {
   "cell_type": "markdown",
   "id": "59a61e1c-d89d-412d-a5f0-4f7d04eab8a5",
   "metadata": {},
   "source": [
    "# Properties vs Temperature (exact)"
   ]
  },
  {
   "cell_type": "code",
   "execution_count": 32,
   "id": "54071e30-5d52-475c-a5ff-f327bb632286",
   "metadata": {},
   "outputs": [
    {
     "name": "stdout",
     "output_type": "stream",
     "text": [
      " Number of configurations:  64\n",
      " Critical Temperature:   4.30000000 \n",
      "     E:   -5.36028889\n",
      "     M:    0.00000000\n",
      "     HC:   1.18893365\n",
      "     MS:   0.54308001\n",
      " Critical Temperature:   2.20000000\n",
      " E = -10.21957820 @ T =   2.00000000\n"
     ]
    },
    {
     "data": {
      "image/png": "[encoded data removed]",
      "text/plain": [
       "<Figure size 640x480 with 1 Axes>"
      ]
     },
     "metadata": {},
     "output_type": "display_data"
    }
   ],
   "source": [
    "# Initialize lists that we will fill with the property vs. temperature data\n",
    "e_list = []\n",
    "e2_list = []\n",
    "m_list = []\n",
    "m2_list = []\n",
    "T_list = []\n",
    "\n",
    "# Create BitString\n",
    "conf = BitString(N)\n",
    "print(\" Number of configurations: \", 2**len(conf))\n",
    "\n",
    "\n",
    "for Ti in range(1,100):\n",
    "    T = .1*Ti\n",
    "    \n",
    "    E, M, HC, MS = compute_average_values(conf, G, T)\n",
    "    \n",
    "    e_list.append(E)\n",
    "    m_list.append(M)\n",
    "    e2_list.append(HC)\n",
    "    m2_list.append(MS)\n",
    "    T_list.append(T)\n",
    "\n",
    "\n",
    "plt.plot(T_list, e_list, label=\"energy\");\n",
    "plt.plot(T_list, m_list, label=\"magnetization\");\n",
    "plt.plot(T_list, m2_list, label=\"Susceptibility\");\n",
    "plt.plot(T_list, e2_list, label=\"Heat Capacity\");\n",
    "plt.xlabel(\"Temp\")\n",
    "plt.ylabel(\"Property\")\n",
    "plt.legend();\n",
    "\n",
    "Tc_ind = np.argmax(m2_list)\n",
    "print(\" Critical Temperature: %12.8f \" %(T_list[Tc_ind]))\n",
    "print(\"     E:  %12.8f\" %(e_list[Tc_ind]))\n",
    "print(\"     M:  %12.8f\" %(m_list[Tc_ind]))\n",
    "print(\"     HC: %12.8f\" %(e2_list[Tc_ind]))\n",
    "print(\"     MS: %12.8f\" %(m2_list[Tc_ind]))\n",
    "Tc2 = T_list[np.argmax(e2_list)]\n",
    "print(\" Critical Temperature: %12.8f\" %(Tc2))\n",
    "\n",
    "print(\" E = %12.8f @ T = %12.8f\"% (e_list[T_list.index(2.00)], 2.0))\n"
   ]
  },
  {
   "cell_type": "markdown",
   "id": "a97b02a9-37ea-4f6c-b59b-cc0103181da6",
   "metadata": {},
   "source": [
    "----\n"
   ]
  },
  {
   "cell_type": "code",
   "execution_count": null,
   "id": "869b13b1-333e-471a-b2cc-265962cd3375",
   "metadata": {},
   "outputs": [],
   "source": []
  }
 ],
 "metadata": {
  "kernelspec": {
   "display_name": "Python 3 (ipykernel)",
   "language": "python",
   "name": "python3"
  },
  "language_info": {
   "codemirror_mode": {
    "name": "ipython",
    "version": 3
   },
   "file_extension": ".py",
   "mimetype": "text/x-python",
   "name": "python",
   "nbconvert_exporter": "python",
   "pygments_lexer": "ipython3",
   "version": "3.11.7"
  }
 },
 "nbformat": 4,
 "nbformat_minor": 5
}
